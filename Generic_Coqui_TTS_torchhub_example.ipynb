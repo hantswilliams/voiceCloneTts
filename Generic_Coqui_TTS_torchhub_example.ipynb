{
  "nbformat": 4,
  "nbformat_minor": 0,
  "metadata": {
    "colab": {
      "name": "Coqui-TTS-torchhub-example.ipynb",
      "provenance": [],
      "collapsed_sections": [],
      "include_colab_link": true
    },
    "kernelspec": {
      "name": "python3",
      "display_name": "Python 3"
    },
    "accelerator": "GPU"
  },
  "cells": [
    {
      "cell_type": "markdown",
      "metadata": {
        "id": "view-in-github",
        "colab_type": "text"
      },
      "source": [
        "<a href=\"https://colab.research.google.com/github/hantswilliams/voiceCloneTts/blob/main/Generic_Coqui_TTS_torchhub_example.ipynb\" target=\"_parent\"><img src=\"https://colab.research.google.com/assets/colab-badge.svg\" alt=\"Open In Colab\"/></a>"
      ]
    },
    {
      "cell_type": "code",
      "metadata": {
        "id": "oC90vEHsZpRs"
      },
      "source": [
        "# install dependencies\n",
        "! apt install espeak-ng\n",
        "! pip install pysbd\n",
        "! pip install gruut\n",
        "! pip install anyascii\n",
        "! pip install -U gdown\n",
        "! pip install pypinyin\n",
        "! pip install coqpit\n",
        "! pip install mecab-python3==1.0.3\n",
        "! pip install unidic-lite"
      ],
      "execution_count": null,
      "outputs": []
    },
    {
      "cell_type": "code",
      "metadata": {
        "id": "ZB2N8PoyWyV0"
      },
      "source": [
        "# use torch hub API\n",
        "import torch\n",
        "synthesizer = torch.hub.load('coqui-ai/TTS:dev', \n",
        "                             'tts', \n",
        "                             source='github')\n",
        "wav = synthesizer.tts(\"This is an open-source library that generates synthetic speech!\")"
      ],
      "execution_count": null,
      "outputs": []
    },
    {
      "cell_type": "code",
      "metadata": {
        "id": "FuHUxvHDf8sX"
      },
      "source": [
        "import IPython\n",
        "IPython.display.Audio(wav, rate=synthesizer.ap.sample_rate)"
      ],
      "execution_count": null,
      "outputs": []
    },
    {
      "cell_type": "code",
      "metadata": {
        "id": "3ejypbymAh_G"
      },
      "source": [
        ""
      ],
      "execution_count": null,
      "outputs": []
    }
  ]
}